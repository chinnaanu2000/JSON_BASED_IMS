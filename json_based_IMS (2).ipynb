{
  "nbformat": 4,
  "nbformat_minor": 0,
  "metadata": {
    "colab": {
      "name": "json_based_IMS.ipynb",
      "provenance": []
    },
    "kernelspec": {
      "name": "python3",
      "display_name": "Python 3"
    },
    "language_info": {
      "name": "python"
    }
  },
  "cells": [
    {
      "cell_type": "code",
      "metadata": {
        "id": "-sUQsDvHHpes"
      },
      "source": [
        "record= {\n",
        "    1000 : {\"prod_name\": \"orange juice\" , \"prize\" : 80 , \"quantity\" : 30 ,\"date of mfg\" : \"04/21\" ,\"discount\" :5 },\n",
        "\n",
        "    1001 : {\"prod_name\": \"choclatecake\" , \"prize\" : 80 , \"quantity\" : 100 ,\"date of mfg\" : \"04/21\" ,\"discount\" :5  },  \n",
        "\n",
        "    1002 : {\"prod_name\": \"kitkat\" , \"prize\" : 40 , \"quantity\" : 10 ,\"date of mfg\" : \"04/21\" ,\"discount\" :5 }, \n",
        "\n",
        "    1003 : {\"prod_name\": \"oreo\" , \"prize\" : 10 , \"quantity\" : 100 ,\"date of mfg\" : \"04/21\" ,\"discount\" :5  }, \n",
        "\n",
        "    1004 : {\"prod_name\": \"coffee\" , \"prize\" : 10 , \"quantity\" : 100,\"date of mfg\" : \"04/21\" ,\"discount\" :5  }, \n",
        "\n",
        "    1005 : {\"prod_name\": \"tea\" , \"prize\" : 10 , \"quantity\" : 100 ,\"date of mfg\" : \"04/21\" ,\"discount\" :5  }, \n",
        "\n",
        "    1006:{\"prod_name\":\"MARIE-GOLD\",\"prize\":10,\"quantity\":10443,\"date of mfg\" : \"04/21\" ,\"discount\":0},\n",
        "\n",
        "    1007:{\"prod_name\":\"MARIE-LITE\",\"prize\":10,\"quantity\":1087,\"date of mfg\" : \"04/21\" ,\"discount\":5},\n",
        "\n",
        "    1008:{\"prod_name\":\"50-50\",\"prize\":5,\"quantity\":1098,\"date of mfg\" : \"04/21\" ,\"discount\":0},\n",
        "\n",
        "    1009:{\"prod_name\":\"20-20\",\"prize\":5,\"quantity\":1000,\"date of mfg\" : \"04/21\" ,\"discount\":0},\n",
        "\n",
        "    1010:{\"prod_name\":\"OREO\",\"prize\":25,\"quantity\":2000,\"date of mfg\" : \"04/21\" ,\"discount\":0},\n",
        "\n",
        "    1011:{\"prod_name\":\"PARLE-GOLD\",\"prize\":20,\"quantity\":460,\"date of mfg\" : \"04/21\" ,\"discount\":0},\n",
        "\n",
        "    1012:{\"prod_name\":\"MAZHA\",\"prize\":25,\"quantity\":890,\"date of mfg\" : \"04/21\" ,\"discount\":0},\n",
        "\n",
        "    1013:{\"prod_name\":\"THUMS-UP\",\"prize\":25,\"quantity\":2350,\"date of mfg\" : \"04/21\" ,\"discount\":0},\n",
        "\n",
        "    1014:{\"prod_name\":\"MIRINDA\",\"prize\":25,\"quantity\":1200,\"date of mfg\" : \"04/21\" ,\"discount\":15},\n",
        "\n",
        "    1015:{\"prod_name\":\"VANILA FLEVER\",\"prize\":20,\"quantity\":2350,\"date of mfg\" : \"04/21\" ,\"discount\":30},\n",
        "\n",
        "    1016:{\"prod_name\":\"MANGO FLEVER\",\"prize\":20,\"quantity\":7890,\"date of mfg\" : \"04/21\" ,\"discount\":4},\n",
        "\n",
        "    1017:{\"prod_name\":\"CHOCALATE FLEVER\",\"prize\":20,\"quantity\":1230,\"date of mfg\" : \"04/21\" ,\"discount\":5},\n",
        "\n",
        "    1018:{\"prod_name\":\"KURKURE\",\"prize\":10,\"quantity\":4560,\"date of mfg\" : \"04/21\" ,\"discount\":6},\n",
        "\n",
        "    1019:{\"prod_name\":\"TAKA-TAK\",\"prize\":10,\"quantity\":1000,\"date of mfg\" : \"04/21\" ,\"discount\":6},\n",
        "\n",
        "    1020:{\"prod_name\":\"TEDHE-MEDHE\",\"prize\":10,\"quantity\":1010,\"date of mfg\" : \"04/21\" ,\"discount\":1},\n",
        "}"
      ],
      "execution_count": 62,
      "outputs": []
    },
    {
      "cell_type": "code",
      "metadata": {
        "id": "RhCX4kYLH0vW"
      },
      "source": [
        "import json"
      ],
      "execution_count": 64,
      "outputs": []
    },
    {
      "cell_type": "markdown",
      "metadata": {
        "id": "w0ZqE6VEKVqu"
      },
      "source": [
        ""
      ]
    },
    {
      "cell_type": "code",
      "metadata": {
        "id": "Z7qN0tpiKWw8"
      },
      "source": [
        "fd=open(\"record.json\",\"r\")\n",
        "r=fd.read()\n",
        "fd.close()"
      ],
      "execution_count": 65,
      "outputs": []
    },
    {
      "cell_type": "code",
      "metadata": {
        "colab": {
          "base_uri": "https://localhost:8080/"
        },
        "id": "DtR0kOyRH02C",
        "outputId": "648229ec-a2b5-442c-fa23-364ca7b95d89"
      },
      "source": [
        "record\n"
      ],
      "execution_count": 66,
      "outputs": [
        {
          "output_type": "execute_result",
          "data": {
            "text/plain": [
              "{1000: {'date of mfg': '04/21',\n",
              "  'discount': 5,\n",
              "  'prize': 80,\n",
              "  'prod_name': 'orange juice',\n",
              "  'quantity': 30},\n",
              " 1001: {'date of mfg': '04/21',\n",
              "  'discount': 5,\n",
              "  'prize': 80,\n",
              "  'prod_name': 'choclatecake',\n",
              "  'quantity': 100},\n",
              " 1002: {'date of mfg': '04/21',\n",
              "  'discount': 5,\n",
              "  'prize': 40,\n",
              "  'prod_name': 'kitkat',\n",
              "  'quantity': 10},\n",
              " 1003: {'date of mfg': '04/21',\n",
              "  'discount': 5,\n",
              "  'prize': 10,\n",
              "  'prod_name': 'oreo',\n",
              "  'quantity': 100},\n",
              " 1004: {'date of mfg': '04/21',\n",
              "  'discount': 5,\n",
              "  'prize': 10,\n",
              "  'prod_name': 'coffee',\n",
              "  'quantity': 100},\n",
              " 1005: {'date of mfg': '04/21',\n",
              "  'discount': 5,\n",
              "  'prize': 10,\n",
              "  'prod_name': 'tea',\n",
              "  'quantity': 100},\n",
              " 1006: {'date of mfg': '04/21',\n",
              "  'discount': 0,\n",
              "  'prize': 10,\n",
              "  'prod_name': 'MARIE-GOLD',\n",
              "  'quantity': 10443},\n",
              " 1007: {'date of mfg': '04/21',\n",
              "  'discount': 5,\n",
              "  'prize': 10,\n",
              "  'prod_name': 'MARIE-LITE',\n",
              "  'quantity': 1087},\n",
              " 1008: {'date of mfg': '04/21',\n",
              "  'discount': 0,\n",
              "  'prize': 5,\n",
              "  'prod_name': '50-50',\n",
              "  'quantity': 1098},\n",
              " 1009: {'date of mfg': '04/21',\n",
              "  'discount': 0,\n",
              "  'prize': 5,\n",
              "  'prod_name': '20-20',\n",
              "  'quantity': 1000},\n",
              " 1010: {'date of mfg': '04/21',\n",
              "  'discount': 0,\n",
              "  'prize': 25,\n",
              "  'prod_name': 'OREO',\n",
              "  'quantity': 2000},\n",
              " 1011: {'date of mfg': '04/21',\n",
              "  'discount': 0,\n",
              "  'prize': 20,\n",
              "  'prod_name': 'PARLE-GOLD',\n",
              "  'quantity': 460},\n",
              " 1012: {'date of mfg': '04/21',\n",
              "  'discount': 0,\n",
              "  'prize': 25,\n",
              "  'prod_name': 'MAZHA',\n",
              "  'quantity': 890},\n",
              " 1013: {'date of mfg': '04/21',\n",
              "  'discount': 0,\n",
              "  'prize': 25,\n",
              "  'prod_name': 'THUMS-UP',\n",
              "  'quantity': 2350},\n",
              " 1014: {'date of mfg': '04/21',\n",
              "  'discount': 15,\n",
              "  'prize': 25,\n",
              "  'prod_name': 'MIRINDA',\n",
              "  'quantity': 1200},\n",
              " 1015: {'date of mfg': '04/21',\n",
              "  'discount': 30,\n",
              "  'prize': 20,\n",
              "  'prod_name': 'VANILA FLEVER',\n",
              "  'quantity': 2350},\n",
              " 1016: {'date of mfg': '04/21',\n",
              "  'discount': 4,\n",
              "  'prize': 20,\n",
              "  'prod_name': 'MANGO FLEVER',\n",
              "  'quantity': 7890},\n",
              " 1017: {'date of mfg': '04/21',\n",
              "  'discount': 5,\n",
              "  'prize': 20,\n",
              "  'prod_name': 'CHOCALATE FLEVER',\n",
              "  'quantity': 1230},\n",
              " 1018: {'date of mfg': '04/21',\n",
              "  'discount': 6,\n",
              "  'prize': 10,\n",
              "  'prod_name': 'KURKURE',\n",
              "  'quantity': 4560},\n",
              " 1019: {'date of mfg': '04/21',\n",
              "  'discount': 6,\n",
              "  'prize': 10,\n",
              "  'prod_name': 'TAKA-TAK',\n",
              "  'quantity': 1000},\n",
              " 1020: {'date of mfg': '04/21',\n",
              "  'discount': 1,\n",
              "  'prize': 10,\n",
              "  'prod_name': 'TEDHE-MEDHE',\n",
              "  'quantity': 1010}}"
            ]
          },
          "metadata": {},
          "execution_count": 66
        }
      ]
    },
    {
      "cell_type": "code",
      "metadata": {
        "id": "yPlF1pyxMTk8"
      },
      "source": [
        "#add a new item to the menu"
      ],
      "execution_count": null,
      "outputs": []
    },
    {
      "cell_type": "code",
      "metadata": {
        "colab": {
          "base_uri": "https://localhost:8080/"
        },
        "id": "1s_OXjB1H09v",
        "outputId": "81e843fc-f311-4882-daf7-8eb9c64dc1bd"
      },
      "source": [
        "pro_id = int(input(\"Enter product_id:\"))\n",
        "item = str(input(\"Enter name of item:\"))  \n",
        "price = int(input(\"Enter the expected price:\"))\n",
        "quantity = int(input(\"Enter Quantity:\"))"
      ],
      "execution_count": 56,
      "outputs": [
        {
          "name": "stdout",
          "output_type": "stream",
          "text": [
            "Enter product_id:1021\n",
            "Enter name of item:ice cream\n",
            "Enter the expected price:35\n",
            "Enter Quantity:30\n"
          ]
        }
      ]
    },
    {
      "cell_type": "code",
      "metadata": {
        "id": "dQob2nfVH1Bz"
      },
      "source": [
        "record[pro_id]= {'item': item, 'price': price, 'quantity': quantity }"
      ],
      "execution_count": 57,
      "outputs": []
    },
    {
      "cell_type": "code",
      "metadata": {
        "colab": {
          "base_uri": "https://localhost:8080/"
        },
        "id": "XlTl-wXyH1Es",
        "outputId": "f2853028-3a27-4153-d730-94fd75d140c3"
      },
      "source": [
        "record"
      ],
      "execution_count": 58,
      "outputs": [
        {
          "output_type": "execute_result",
          "data": {
            "text/plain": [
              "{1000: {'date of mfg': '04/21',\n",
              "  'discount': 5,\n",
              "  'item': 'orange juice',\n",
              "  'price': 80,\n",
              "  'quantity': 30},\n",
              " 1001: {'date of mfg': '04/21',\n",
              "  'discount': 5,\n",
              "  'item': 'choclatecake',\n",
              "  'price': 80,\n",
              "  'quantity': 100},\n",
              " 1002: {'date of mfg': '04/21',\n",
              "  'discount': 5,\n",
              "  'item': 'kitkat',\n",
              "  'price': 40,\n",
              "  'quantity': 10},\n",
              " 1003: {'date of mfg': '04/21',\n",
              "  'discount': 5,\n",
              "  'item': 'oreo',\n",
              "  'price': 10,\n",
              "  'quantity': 100},\n",
              " 1004: {'date of mfg': '04/21',\n",
              "  'discount': 5,\n",
              "  'item': 'coffee',\n",
              "  'price': 10,\n",
              "  'quantity': 100},\n",
              " 1005: {'date of mfg': '04/21',\n",
              "  'discount': 5,\n",
              "  'item': 'tea',\n",
              "  'price': 10,\n",
              "  'quantity': 100},\n",
              " 1006: {'date of mfg': '04/21',\n",
              "  'discount': 0,\n",
              "  'prize': 10,\n",
              "  'prod_name': 'MARIE-GOLD',\n",
              "  'quantity': 10443},\n",
              " 1007: {'date of mfg': '04/21',\n",
              "  'discount': 5,\n",
              "  'prize': 10,\n",
              "  'prod_name': 'MARIE-LITE',\n",
              "  'quantity': 1087},\n",
              " 1008: {'date of mfg': '04/21',\n",
              "  'discount': 0,\n",
              "  'prize': 5,\n",
              "  'prod_name': '50-50',\n",
              "  'quantity': 1098},\n",
              " 1009: {'date of mfg': '04/21',\n",
              "  'discount': 0,\n",
              "  'prize': 5,\n",
              "  'prod_name': '20-20',\n",
              "  'quantity': 1000},\n",
              " 1010: {'date of mfg': '04/21',\n",
              "  'discount': 0,\n",
              "  'prize': 25,\n",
              "  'prod_name': 'OREO',\n",
              "  'quantity': 2000},\n",
              " 1011: {'date of mfg': '04/21',\n",
              "  'discount': 0,\n",
              "  'prize': 20,\n",
              "  'prod_name': 'PARLE-GOLD',\n",
              "  'quantity': 460},\n",
              " 1012: {'date of mfg': '04/21',\n",
              "  'discount': 0,\n",
              "  'prize': 25,\n",
              "  'prod_name': 'MAZHA',\n",
              "  'quantity': 890},\n",
              " 1013: {'date of mfg': '04/21',\n",
              "  'discount': 0,\n",
              "  'prize': 25,\n",
              "  'prod_name': 'THUMS-UP',\n",
              "  'quantity': 2350},\n",
              " 1014: {'date of mfg': '04/21',\n",
              "  'discount': 15,\n",
              "  'prize': 25,\n",
              "  'prod_name': 'MIRINDA',\n",
              "  'quantity': 1200},\n",
              " 1015: {'date of mfg': '04/21',\n",
              "  'discount': 30,\n",
              "  'prize': 20,\n",
              "  'prod_name': 'VANILA FLEVER',\n",
              "  'quantity': 2350},\n",
              " 1016: {'date of mfg': '04/21',\n",
              "  'discount': 4,\n",
              "  'prize': 20,\n",
              "  'prod_name': 'MANGO FLEVER',\n",
              "  'quantity': 7890},\n",
              " 1017: {'date of mfg': '04/21',\n",
              "  'discount': 5,\n",
              "  'prize': 20,\n",
              "  'prod_name': 'CHOCALATE FLEVER',\n",
              "  'quantity': 1230},\n",
              " 1018: {'date of mfg': '04/21',\n",
              "  'discount': 6,\n",
              "  'prize': 10,\n",
              "  'prod_name': 'KURKURE',\n",
              "  'quantity': 4560},\n",
              " 1019: {'date of mfg': '04/21',\n",
              "  'discount': 6,\n",
              "  'prize': 10,\n",
              "  'prod_name': 'TAKA-TAK',\n",
              "  'quantity': 1000},\n",
              " 1020: {'date of mfg': '04/21',\n",
              "  'discount': 1,\n",
              "  'prize': 10,\n",
              "  'prod_name': 'TEDHE-MEDHE',\n",
              "  'quantity': 1010},\n",
              " 1021: {'item': 'ice cream', 'price': 35, 'quantity': 30}}"
            ]
          },
          "metadata": {},
          "execution_count": 58
        }
      ]
    },
    {
      "cell_type": "code",
      "metadata": {
        "id": "T6V7P2pWH1IO"
      },
      "source": [
        "#showing the required item"
      ],
      "execution_count": 25,
      "outputs": []
    },
    {
      "cell_type": "code",
      "metadata": {
        "colab": {
          "base_uri": "https://localhost:8080/"
        },
        "id": "zmtYswo9H1LU",
        "outputId": "afb5a041-e364-40c1-d4ba-61018fa5ca1a"
      },
      "source": [
        "pro_id=int(input(\"enter product id\"))\n",
        "quantity=int(input(\"enter quantity\"))\n",
        "record[pro_id]"
      ],
      "execution_count": 68,
      "outputs": [
        {
          "name": "stdout",
          "output_type": "stream",
          "text": [
            "enter product id1013\n",
            "enter quantity1\n"
          ]
        },
        {
          "output_type": "execute_result",
          "data": {
            "text/plain": [
              "{'date of mfg': '04/21',\n",
              " 'discount': 0,\n",
              " 'prize': 25,\n",
              " 'prod_name': 'THUMS-UP',\n",
              " 'quantity': 2350}"
            ]
          },
          "metadata": {},
          "execution_count": 68
        }
      ]
    },
    {
      "cell_type": "code",
      "metadata": {
        "id": "2uq2MqumH1q1"
      },
      "source": [
        "#finding the product in the inventary"
      ],
      "execution_count": 27,
      "outputs": []
    },
    {
      "cell_type": "code",
      "metadata": {
        "colab": {
          "base_uri": "https://localhost:8080/"
        },
        "id": "dR_Wwk87H2nv",
        "outputId": "3968dbdd-a64a-485d-df9b-c2d27dc71db0"
      },
      "source": [
        "ui_prod=int(input(\"enter product id\"))\n",
        "ui_quan=int(input(\"enter quantity\"))\n",
        "\n",
        "product = record.get(ui_prod)\n",
        "\n",
        "if product:\n",
        "  print(\"yes we have the product that you want and here are the details\")\n",
        "  print('product name: ',product.get('prod_name'))\n",
        "  print('price per unit: ', product.get('prize'))\n",
        "  print('amount to be paid: ', ui_quan*product.get('prize'))\n",
        "else:\n",
        "  print('sorry asked product is not available')"
      ],
      "execution_count": 70,
      "outputs": [
        {
          "output_type": "stream",
          "name": "stdout",
          "text": [
            "enter product id1013\n",
            "enter quantity1\n",
            "yes we have the product that you want and here are the details\n",
            "product name:  THUMS-UP\n",
            "price per unit:  25\n",
            "amount to be paid:  25\n"
          ]
        }
      ]
    },
    {
      "cell_type": "code",
      "metadata": {
        "colab": {
          "base_uri": "https://localhost:8080/"
        },
        "id": "jZNcFik3PlmF",
        "outputId": "8c924a6e-1736-42fd-94da-63dcd83e833c"
      },
      "source": [
        "product"
      ],
      "execution_count": 71,
      "outputs": [
        {
          "output_type": "execute_result",
          "data": {
            "text/plain": [
              "{'date of mfg': '04/21',\n",
              " 'discount': 0,\n",
              " 'prize': 25,\n",
              " 'prod_name': 'THUMS-UP',\n",
              " 'quantity': 2350}"
            ]
          },
          "metadata": {},
          "execution_count": 71
        }
      ]
    },
    {
      "cell_type": "code",
      "metadata": {
        "id": "zYpRN19MH2sw"
      },
      "source": [
        "#billing"
      ],
      "execution_count": 72,
      "outputs": []
    },
    {
      "cell_type": "code",
      "metadata": {
        "colab": {
          "base_uri": "https://localhost:8080/"
        },
        "id": "XxRQjeO_H2yQ",
        "outputId": "380977f9-0141-4162-8556-8ca04e167c4a"
      },
      "source": [
        "import time\n",
        "prod_id=int(input(\"enter id of product you want to purchase:\"))\n",
        "qty=int(input(\"enter quantity of product:\"))\n",
        "cust_name=input(\"enter customer name:\")\n",
        "product = record.get(prod_id)\n",
        "print(\"product :\",product.get('prod_name'))\n",
        "print(\"prize per product :\",product.get('prize'))\n",
        "print(\"billing amount:\",product.get('prize')*qty)\n",
        "stock_reamaining=product.get('quantity')-qty\n",
        "print(\"please wait for a while, until we calculate your bill\")\n",
        "print(\"==========================================================================================================\")\n",
        "print(\"==========================================================================================================\")\n",
        "\n",
        "print(\" Customer name:\",cust_name,\"                               Time & Date of shopping:\",time.ctime())\n",
        "\n",
        "print(\"==========================================================================================================\")\n",
        "print(\"the name of product you purchased is:\",product.get('prod_name'))\n",
        "\n",
        "print(\"==========================================================================================================\")\n",
        "print(\"==========================================================================================================\")\n",
        "print(\"     your bill amount is \",product.get('prize')*qty,\"for the product you have purchased.\")\n",
        "\n",
        "print(\"=============================== Pay your bill on cash counter ============================================\")    \n",
        "print(\"====================================  thanks for shopping  ===============================================\")"
      ],
      "execution_count": 77,
      "outputs": [
        {
          "output_type": "stream",
          "name": "stdout",
          "text": [
            "enter id of product you want to purchase:1013\n",
            "enter quantity of product:1\n",
            "enter customer name:chai\n",
            "product : THUMS-UP\n",
            "prize per product : 25\n",
            "billing amount: 25\n",
            "please wait for a while, until we calculate your bill\n",
            "==========================================================================================================\n",
            "==========================================================================================================\n",
            " Customer name: chai                                Time & Date of shopping: Mon Sep  6 14:29:01 2021\n",
            "==========================================================================================================\n",
            "the name of product you purchased is: THUMS-UP\n",
            "==========================================================================================================\n",
            "==========================================================================================================\n",
            "     your bill amount is  25 for the product you have purchased.\n",
            "=============================== Pay your bill on cash counter ============================================\n",
            "====================================  thanks for shopping  ===============================================\n"
          ]
        }
      ]
    },
    {
      "cell_type": "code",
      "metadata": {
        "colab": {
          "base_uri": "https://localhost:8080/"
        },
        "id": "Zrm9HSPPXMHJ",
        "outputId": "53f1fb6f-b580-40f5-8320-0b3c8186ec1e"
      },
      "source": [
        "stock_reamaining=product.get('quantity')-qty\n",
        "print(\"reamining stock of purchased item is:\",stock_reamaining)"
      ],
      "execution_count": 78,
      "outputs": [
        {
          "output_type": "stream",
          "name": "stdout",
          "text": [
            "reamining stock of purchased item is: 2349\n"
          ]
        }
      ]
    }
  ]
}